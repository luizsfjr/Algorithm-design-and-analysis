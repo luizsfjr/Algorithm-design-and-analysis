{
 "cells": [
  {
   "cell_type": "code",
   "execution_count": 1,
   "metadata": {
    "ExecuteTime": {
     "end_time": "2021-07-23T12:32:09.072449Z",
     "start_time": "2021-07-23T12:32:09.063214Z"
    }
   },
   "outputs": [],
   "source": [
    "from collections import deque"
   ]
  },
  {
   "cell_type": "code",
   "execution_count": 2,
   "metadata": {
    "ExecuteTime": {
     "end_time": "2021-07-23T12:32:10.037961Z",
     "start_time": "2021-07-23T12:32:10.019792Z"
    }
   },
   "outputs": [],
   "source": [
    "class No:\n",
    "    def __init__(self):\n",
    "        self.nivel = 0\n",
    "        self.items = []\n",
    "        \n",
    "    def getValorCum(self):\n",
    "        if len(self.items) == 0:\n",
    "            return 0\n",
    "        else:\n",
    "            valorCum = 0\n",
    "            for item in self.items:\n",
    "                valorCum += item[0]\n",
    "            return valorCum\n",
    "        \n",
    "    def getPesoCum(self):\n",
    "        if len(self.items) == 0:\n",
    "            return 0\n",
    "        else:\n",
    "            pesoCum = 0\n",
    "            for item in self.items:\n",
    "                pesoCum += item[1]\n",
    "            return pesoCum\n",
    "        \n",
    "    def getUpperbound(self, items_ord, c):\n",
    "        try:\n",
    "            v_util_r = items_ord[self.nivel][0]/items_ord[self.nivel][1]\n",
    "        except:\n",
    "            v_util_r = 0\n",
    "\n",
    "        up = self.getValorCum() + (c - self.getPesoCum()) * (v_util_r)\n",
    "        \n",
    "        return up"
   ]
  },
  {
   "cell_type": "code",
   "execution_count": 32,
   "metadata": {
    "ExecuteTime": {
     "end_time": "2021-07-23T13:44:37.015422Z",
     "start_time": "2021-07-23T13:44:37.005984Z"
    }
   },
   "outputs": [],
   "source": [
    "def knapsack_branch_bound(c,v_lista,p_lista):\n",
    "    \n",
    "    items = [(v,p) for v, p in zip(v_lista, p_lista)]\n",
    "    items_ord = sorted(items, key=lambda x: x[0]/x[1], reverse=True)\n",
    "    \n",
    "    fila = deque()\n",
    "    \n",
    "    no_atual = No()\n",
    "    no_temp = No()\n",
    "    \n",
    "    fila.append(no_atual)\n",
    "    valorMax = 0\n",
    "    melhorSolucao = 0\n",
    "    \n",
    "    while (len(fila) != 0):\n",
    "        \n",
    "        no_atual = fila[0]\n",
    "        fila.popleft()\n",
    "        \n",
    "        if(no_atual.getUpperbound(items_ord,c) > valorMax):\n",
    "            no_atual.nivel += 1\n",
    "            no_temp = no_atual\n",
    "            \n",
    "            if((no_atual.getPesoCum()+items_ord[no_atual.nivel-1][1])<c):\n",
    "                no_atual.items.append(items_ord[no_atual.nivel-1])\n",
    "            \n",
    "            if(no_atual.getValorCum() > valorMax):\n",
    "                valorMax = no_atual.getValorCum()\n",
    "                melhorSolucao = no_atual\n",
    "\n",
    "            if(no_atual.getUpperbound(items_ord,c) > valorMax):\n",
    "                fila.append(no_atual)\n",
    "\n",
    "            if(no_temp.getUpperbound(items_ord,c) > valorMax):\n",
    "                fila.append(no_temp)\n",
    "            \n",
    "    return melhorSolucao"
   ]
  },
  {
   "cell_type": "code",
   "execution_count": 29,
   "metadata": {
    "ExecuteTime": {
     "end_time": "2021-07-23T13:44:18.036788Z",
     "start_time": "2021-07-23T13:44:18.028446Z"
    }
   },
   "outputs": [],
   "source": [
    "c = 1100\n",
    "v_lista = [60, 8,14,31,10]\n",
    "p_lista = [800,600,300,400,200]"
   ]
  },
  {
   "cell_type": "code",
   "execution_count": 30,
   "metadata": {
    "ExecuteTime": {
     "end_time": "2021-07-23T13:44:20.023028Z",
     "start_time": "2021-07-23T13:44:20.010340Z"
    }
   },
   "outputs": [
    {
     "name": "stdout",
     "output_type": "stream",
     "text": [
      "9\n"
     ]
    }
   ],
   "source": [
    "resultado = knapsack_branch_bound(c,v_lista,p_lista)"
   ]
  },
  {
   "cell_type": "code",
   "execution_count": 18,
   "metadata": {
    "ExecuteTime": {
     "end_time": "2021-07-23T12:50:54.156915Z",
     "start_time": "2021-07-23T12:50:54.143872Z"
    }
   },
   "outputs": [
    {
     "data": {
      "text/plain": [
       "[(48, 600), (31, 400)]"
      ]
     },
     "execution_count": 18,
     "metadata": {},
     "output_type": "execute_result"
    }
   ],
   "source": [
    "resultado.items"
   ]
  },
  {
   "cell_type": "code",
   "execution_count": 23,
   "metadata": {
    "ExecuteTime": {
     "end_time": "2021-07-23T02:56:03.186694Z",
     "start_time": "2021-07-23T02:56:02.919167Z"
    }
   },
   "outputs": [],
   "source": [
    "#Testes\n",
    "import random\n",
    "import time\n",
    "\n",
    "items = 1000\n",
    "\n",
    "v_lista = [random.randint(1,30) for i in range(0,items)]\n",
    "p_lista = [random.randint(1,30) for i in range(0,items)]\n",
    "c = sum(p_lista)/2"
   ]
  },
  {
   "cell_type": "code",
   "execution_count": 24,
   "metadata": {
    "ExecuteTime": {
     "end_time": "2021-07-23T02:56:03.438249Z",
     "start_time": "2021-07-23T02:56:03.192872Z"
    }
   },
   "outputs": [
    {
     "data": {
      "text/plain": [
       "7717.5"
      ]
     },
     "execution_count": 24,
     "metadata": {},
     "output_type": "execute_result"
    }
   ],
   "source": [
    "c"
   ]
  },
  {
   "cell_type": "code",
   "execution_count": 25,
   "metadata": {
    "ExecuteTime": {
     "end_time": "2021-07-23T02:56:03.692323Z",
     "start_time": "2021-07-23T02:56:03.442299Z"
    }
   },
   "outputs": [
    {
     "data": {
      "text/plain": [
       "9"
      ]
     },
     "execution_count": 25,
     "metadata": {},
     "output_type": "execute_result"
    }
   ],
   "source": [
    "resultado.getPesoCum()"
   ]
  },
  {
   "cell_type": "code",
   "execution_count": 26,
   "metadata": {
    "ExecuteTime": {
     "end_time": "2021-07-23T02:56:03.990487Z",
     "start_time": "2021-07-23T02:56:03.699766Z"
    }
   },
   "outputs": [
    {
     "data": {
      "text/plain": [
       "65"
      ]
     },
     "execution_count": 26,
     "metadata": {},
     "output_type": "execute_result"
    }
   ],
   "source": [
    "resultado.getValorCum()"
   ]
  },
  {
   "cell_type": "code",
   "execution_count": 27,
   "metadata": {
    "ExecuteTime": {
     "end_time": "2021-07-23T02:56:04.251621Z",
     "start_time": "2021-07-23T02:56:04.001966Z"
    }
   },
   "outputs": [
    {
     "data": {
      "text/plain": [
       "2"
      ]
     },
     "execution_count": 27,
     "metadata": {},
     "output_type": "execute_result"
    }
   ],
   "source": [
    "len(resultado.items)"
   ]
  }
 ],
 "metadata": {
  "hide_input": false,
  "kernelspec": {
   "display_name": "Python 3",
   "language": "python",
   "name": "python3"
  },
  "language_info": {
   "codemirror_mode": {
    "name": "ipython",
    "version": 3
   },
   "file_extension": ".py",
   "mimetype": "text/x-python",
   "name": "python",
   "nbconvert_exporter": "python",
   "pygments_lexer": "ipython3",
   "version": "3.8.5"
  }
 },
 "nbformat": 4,
 "nbformat_minor": 4
}
