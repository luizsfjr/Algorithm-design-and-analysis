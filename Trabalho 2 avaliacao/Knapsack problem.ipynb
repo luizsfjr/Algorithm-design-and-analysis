{
 "cells": [
  {
   "cell_type": "code",
   "execution_count": 4,
   "id": "tamil-florence",
   "metadata": {
    "ExecuteTime": {
     "end_time": "2021-08-05T13:57:46.265768Z",
     "start_time": "2021-08-05T13:57:46.260140Z"
    }
   },
   "outputs": [],
   "source": [
    "a = {}"
   ]
  },
  {
   "cell_type": "code",
   "execution_count": 5,
   "id": "african-revelation",
   "metadata": {
    "ExecuteTime": {
     "end_time": "2021-08-05T13:58:02.701738Z",
     "start_time": "2021-08-05T13:58:02.698711Z"
    }
   },
   "outputs": [],
   "source": [
    "a[(1,2)] = 0"
   ]
  },
  {
   "cell_type": "code",
   "execution_count": 6,
   "id": "apart-march",
   "metadata": {
    "ExecuteTime": {
     "end_time": "2021-08-05T13:58:04.592845Z",
     "start_time": "2021-08-05T13:58:04.579016Z"
    }
   },
   "outputs": [
    {
     "data": {
      "text/plain": [
       "{(1, 2): 0}"
      ]
     },
     "execution_count": 6,
     "metadata": {},
     "output_type": "execute_result"
    }
   ],
   "source": [
    "a"
   ]
  },
  {
   "cell_type": "code",
   "execution_count": 1,
   "id": "16aadbea",
   "metadata": {
    "ExecuteTime": {
     "end_time": "2021-08-05T13:57:31.340700Z",
     "start_time": "2021-08-05T13:57:31.267655Z"
    }
   },
   "outputs": [],
   "source": [
    "def knapsack(v, w, C):  \n",
    "    N = len(v)\n",
    "    m = {}\n",
    "    for c in range(C+1):\n",
    "        m[(0,c)] = 0\n",
    "    for i in range(1, N+1):\n",
    "        for c in range(C+1):\n",
    "            if w[i-1] <= c:\n",
    "                m[(i,c)] = max(m[(i-1,c)], v[i-1] + m[(i-1,c-w[i-1])])\n",
    "            else:\n",
    "                m[(i,c)] = m[(i-1,c)]\n",
    "    return m[(N,C)]"
   ]
  },
  {
   "cell_type": "code",
   "execution_count": 2,
   "id": "f9e06ed0",
   "metadata": {
    "ExecuteTime": {
     "end_time": "2021-08-05T13:57:32.318100Z",
     "start_time": "2021-08-05T13:57:32.312672Z"
    }
   },
   "outputs": [],
   "source": [
    "v = [60, 100, 120]\n",
    "w = [10, 20, 30]\n",
    "c = 50"
   ]
  },
  {
   "cell_type": "code",
   "execution_count": 7,
   "id": "sexual-valuable",
   "metadata": {
    "ExecuteTime": {
     "end_time": "2021-08-05T13:58:48.370375Z",
     "start_time": "2021-08-05T13:58:48.362522Z"
    }
   },
   "outputs": [],
   "source": [
    "knapsack(v,w,c)"
   ]
  }
 ],
 "metadata": {
  "hide_input": false,
  "kernelspec": {
   "display_name": "Python 3",
   "language": "python",
   "name": "python3"
  },
  "language_info": {
   "codemirror_mode": {
    "name": "ipython",
    "version": 3
   },
   "file_extension": ".py",
   "mimetype": "text/x-python",
   "name": "python",
   "nbconvert_exporter": "python",
   "pygments_lexer": "ipython3",
   "version": "3.8.5"
  }
 },
 "nbformat": 4,
 "nbformat_minor": 5
}
