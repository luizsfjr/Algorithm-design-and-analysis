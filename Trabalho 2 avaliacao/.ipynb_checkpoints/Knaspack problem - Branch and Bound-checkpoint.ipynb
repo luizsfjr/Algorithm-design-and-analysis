{
 "cells": [
  {
   "cell_type": "code",
   "execution_count": 3,
   "id": "automotive-sword",
   "metadata": {
    "ExecuteTime": {
     "end_time": "2021-07-17T22:43:24.933950Z",
     "start_time": "2021-07-17T22:43:24.927767Z"
    }
   },
   "outputs": [],
   "source": [
    "from queue import Queue\n",
    "from collections import deque, namedtuple\n",
    "class Node:\n",
    "    def __init__(self):\n",
    "        self.level = None\n",
    "        self.profit = None\n",
    "        self.bound = None\n",
    "        self.weight = None\n",
    "        self.contains = []"
   ]
  },
  {
   "cell_type": "code",
   "execution_count": 4,
   "id": "expensive-browser",
   "metadata": {
    "ExecuteTime": {
     "end_time": "2021-07-17T22:43:26.810898Z",
     "start_time": "2021-07-17T22:43:26.772348Z"
    }
   },
   "outputs": [],
   "source": [
    "def bound(node, n, W, items):\n",
    "    if(node.weight >= W):\n",
    "        return 0\n",
    "\n",
    "    profit_bound = int(node.profit)\n",
    "    j = node.level + 1\n",
    "    totweight = int(node.weight)\n",
    "\n",
    "    while ((j < n) and (totweight + items[j].weight) <= W):\n",
    "        totweight += items[j].weight\n",
    "        profit_bound += items[j].value\n",
    "        j += 1\n",
    "\n",
    "    if(j < n):\n",
    "        profit_bound += (W - totweight) * items[j].value / float(items[j].weight)\n",
    "\n",
    "    return profit_bound\n",
    "\n",
    "Q = deque([])\n",
    "\n",
    "def KnapSackBranchNBound(weight, items, total_items):\n",
    "    items = sorted(items, key=lambda x: x.value/float(x.weight), reverse=True)\n",
    "\n",
    "    u = Node()\n",
    "\n",
    "    u.level = -1\n",
    "    u.profit = 0\n",
    "    u.weight = 0\n",
    "\n",
    "    Q.append(u)\n",
    "    maxProfit = 0\n",
    "    bestItems = []\n",
    "\n",
    "    while (len(Q) != 0):\n",
    "\n",
    "        u = Q[0]\n",
    "        Q.popleft()\n",
    "        v = Node()\n",
    "\n",
    "        if (u.level == -1):\n",
    "            v.level = 0\n",
    "\n",
    "        if (u.level == total_items - 1):\n",
    "            continue\n",
    "            \n",
    "        v.level = u.level + 1\n",
    "        v.weight = u.weight + items[v.level].weight\n",
    "        v.profit = u.profit + items[v.level].value\n",
    "        v.contains = list(u.contains)\n",
    "        v.contains.append(items[v.level].index)\n",
    "\n",
    "        if (v.weight <= weight and v.profit > maxProfit):\n",
    "            maxProfit = v.profit\n",
    "            bestItems = v.contains\n",
    "\n",
    "        v.bound = bound(v, total_items, weight, items)\n",
    "        if (v.bound > maxProfit):\n",
    "            # print v\n",
    "            Q.append(v)\n",
    "\n",
    "        v = Node()\n",
    "        v.level = u.level + 1\n",
    "        v.weight = u.weight\n",
    "        v.profit = u.profit\n",
    "        v.contains = list(u.contains)\n",
    "\n",
    "        v.bound = bound(v, total_items, weight, items)\n",
    "        if (v.bound > maxProfit):\n",
    "            # print v\n",
    "            Q.append(v)\n",
    "\n",
    "    taken = [0] * len(items)\n",
    "    for i in range(len(bestItems)):\n",
    "        taken[bestItems[i]] = 1\n",
    "\n",
    "    return (maxProfit, taken)"
   ]
  },
  {
   "cell_type": "code",
   "execution_count": 5,
   "id": "forward-router",
   "metadata": {
    "ExecuteTime": {
     "end_time": "2021-07-17T22:43:29.758223Z",
     "start_time": "2021-07-17T22:43:29.750328Z"
    }
   },
   "outputs": [
    {
     "name": "stdout",
     "output_type": "stream",
     "text": [
      "(375, [1, 1, 1, 1, 1, 1])\n"
     ]
    }
   ],
   "source": [
    "Item = namedtuple(\"Item\", ['index', 'value', 'weight'])\n",
    "lines = []\n",
    "with open(\"test\",'r') as file:\n",
    "    for line in file.readlines():\n",
    "        if(len(line.split(\" \")) == 1):\n",
    "            capacity = int(line)\n",
    "        else:\n",
    "            lines.append(line.split('\\n')[0])            \n",
    "n = len(lines)\n",
    "items = []\n",
    "for i in range(0,n):\n",
    "    line = lines[i]\n",
    "    parts = line.split()\n",
    "    items.append(Item(i, int(parts[0]), float(parts[1])))\n",
    "kbb = KnapSackBranchNBound(capacity, items, n)\n",
    "print(kbb)  "
   ]
  }
 ],
 "metadata": {
  "hide_input": false,
  "kernelspec": {
   "display_name": "Python 3",
   "language": "python",
   "name": "python3"
  },
  "language_info": {
   "codemirror_mode": {
    "name": "ipython",
    "version": 3
   },
   "file_extension": ".py",
   "mimetype": "text/x-python",
   "name": "python",
   "nbconvert_exporter": "python",
   "pygments_lexer": "ipython3",
   "version": "3.8.5"
  }
 },
 "nbformat": 4,
 "nbformat_minor": 5
}
