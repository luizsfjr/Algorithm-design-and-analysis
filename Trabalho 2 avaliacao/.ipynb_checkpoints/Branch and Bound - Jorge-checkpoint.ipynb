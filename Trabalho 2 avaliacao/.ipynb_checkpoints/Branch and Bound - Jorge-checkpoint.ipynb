{
 "cells": [
  {
   "cell_type": "code",
   "execution_count": 1,
   "metadata": {},
   "outputs": [],
   "source": [
    "from collections import deque"
   ]
  },
  {
   "cell_type": "code",
   "execution_count": 2,
   "metadata": {},
   "outputs": [],
   "source": [
    "class No:\n",
    "    def __init__(self):\n",
    "        self.nivel = 0\n",
    "        self.items = []\n",
    "        \n",
    "    def getValorCum(self):\n",
    "        if len(self.items) == 0:\n",
    "            return 0\n",
    "        else:\n",
    "            valorCum = 0\n",
    "            for item in self.items:\n",
    "                valorCum += item[0]\n",
    "            return valorCum\n",
    "        \n",
    "    def getPesoCum(self):\n",
    "        if len(self.items) == 0:\n",
    "            return 0\n",
    "        else:\n",
    "            pesoCum = 0\n",
    "            for item in self.items:\n",
    "                pesoCum += item[1]\n",
    "            return pesoCum\n",
    "        \n",
    "    def getUpperbound(self, items_ord, c):\n",
    "        try:\n",
    "            v_util_r = items_ord[self.nivel][0]/items_ord[self.nivel][1]\n",
    "        except:\n",
    "            v_util_r = 0\n",
    "\n",
    "        up = self.getValorCum() + (c - self.getPesoCum()) * (v_util_r)\n",
    "        \n",
    "        return up"
   ]
  },
  {
   "cell_type": "code",
   "execution_count": 3,
   "metadata": {},
   "outputs": [],
   "source": [
    "def knapsack_branch_bound(c,v_lista,p_lista):\n",
    "    \n",
    "    items = [(v,p) for v, p in zip(v_lista, p_lista)]\n",
    "    items_ord = sorted(items, key=lambda x: x[0]/x[1], reverse=True)\n",
    "    \n",
    "    fila = deque()\n",
    "    \n",
    "    no_atual = No()\n",
    "    no_temp = No()\n",
    "    \n",
    "    fila.append(no_atual)\n",
    "    valorMax = 0\n",
    "    melhorSolucao = 0\n",
    "    \n",
    "    while (len(fila) != 0):\n",
    "        \n",
    "        no_atual = fila[0]\n",
    "        fila.popleft()\n",
    "        \n",
    "        if(no_atual.getUpperbound(items_ord,c) > valorMax):\n",
    "            no_atual.nivel += 1\n",
    "            no_temp = no_atual\n",
    "            \n",
    "            if((no_atual.getPesoCum()+items_ord[no_atual.nivel-1][1])<c):\n",
    "                no_atual.items.append(items_ord[no_atual.nivel-1])\n",
    "            \n",
    "            if(no_atual.getValorCum() > valorMax):\n",
    "                valorMax = no_atual.getValorCum()\n",
    "                melhorSolucao = no_atual\n",
    "\n",
    "            if(no_atual.getUpperbound(items_ord,c) > valorMax):\n",
    "                fila.append(no_atual)\n",
    "\n",
    "            if(no_temp.getUpperbound(items_ord,c) > valorMax):\n",
    "                fila.append(no_temp)\n",
    "            \n",
    "    return melhorSolucao"
   ]
  },
  {
   "cell_type": "code",
   "execution_count": 4,
   "metadata": {},
   "outputs": [],
   "source": [
    "c = 10\n",
    "v_lista = [40,42,25,12]\n",
    "p_lista = [4,7,5,3]"
   ]
  },
  {
   "cell_type": "code",
   "execution_count": 5,
   "metadata": {},
   "outputs": [],
   "source": [
    "resultado = knapsack_branch_bound(c,v_lista,p_lista)"
   ]
  },
  {
   "cell_type": "code",
   "execution_count": 6,
   "metadata": {},
   "outputs": [
    {
     "data": {
      "text/plain": [
       "[(40, 4), (25, 5)]"
      ]
     },
     "execution_count": 6,
     "metadata": {},
     "output_type": "execute_result"
    }
   ],
   "source": [
    "resultado.items"
   ]
  },
  {
   "cell_type": "code",
   "execution_count": 7,
   "metadata": {},
   "outputs": [],
   "source": [
    "#Testes\n",
    "import random\n",
    "import time\n",
    "\n",
    "items = 1000\n",
    "\n",
    "v_lista = [random.randint(1,30) for i in range(0,items)]\n",
    "p_lista = [random.randint(1,30) for i in range(0,items)]\n",
    "c = sum(p_lista)/2"
   ]
  },
  {
   "cell_type": "code",
   "execution_count": 8,
   "metadata": {},
   "outputs": [
    {
     "data": {
      "text/plain": [
       "7815.5"
      ]
     },
     "execution_count": 8,
     "metadata": {},
     "output_type": "execute_result"
    }
   ],
   "source": [
    "c"
   ]
  },
  {
   "cell_type": "code",
   "execution_count": 9,
   "metadata": {},
   "outputs": [
    {
     "data": {
      "text/plain": [
       "9"
      ]
     },
     "execution_count": 9,
     "metadata": {},
     "output_type": "execute_result"
    }
   ],
   "source": [
    "resultado.getPesoCum()"
   ]
  },
  {
   "cell_type": "code",
   "execution_count": 10,
   "metadata": {},
   "outputs": [
    {
     "data": {
      "text/plain": [
       "65"
      ]
     },
     "execution_count": 10,
     "metadata": {},
     "output_type": "execute_result"
    }
   ],
   "source": [
    "resultado.getValorCum()"
   ]
  },
  {
   "cell_type": "code",
   "execution_count": 11,
   "metadata": {},
   "outputs": [
    {
     "data": {
      "text/plain": [
       "2"
      ]
     },
     "execution_count": 11,
     "metadata": {},
     "output_type": "execute_result"
    }
   ],
   "source": [
    "len(resultado.items)"
   ]
  }
 ],
 "metadata": {
  "hide_input": false,
  "kernelspec": {
   "display_name": "Python 3",
   "language": "python",
   "name": "python3"
  },
  "language_info": {
   "codemirror_mode": {
    "name": "ipython",
    "version": 3
   },
   "file_extension": ".py",
   "mimetype": "text/x-python",
   "name": "python",
   "nbconvert_exporter": "python",
   "pygments_lexer": "ipython3",
   "version": "3.8.5"
  }
 },
 "nbformat": 4,
 "nbformat_minor": 4
}
