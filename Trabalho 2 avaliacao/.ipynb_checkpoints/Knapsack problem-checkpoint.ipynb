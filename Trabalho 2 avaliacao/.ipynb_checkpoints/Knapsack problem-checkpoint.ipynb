{
 "cells": [
  {
   "cell_type": "code",
   "execution_count": 12,
   "id": "16aadbea",
   "metadata": {
    "ExecuteTime": {
     "end_time": "2021-07-17T18:36:16.717328Z",
     "start_time": "2021-07-17T18:36:16.707411Z"
    }
   },
   "outputs": [],
   "source": [
    "def knapsack(v, w, C):  \n",
    "    N = len (v)\n",
    "    m = {}\n",
    "    for c in range (C+1):\n",
    "        m[0,c] - 0\n",
    "        \n",
    "    for i in range (1, N+1):\n",
    "        for c in range (C+1):\n",
    "            if w[i-1] <= c:\n",
    "                m[(i,c)] = max(m[(i-1,c)], v[i-1] + m[(i-1,c-w[i-1])])\n",
    "            else:\n",
    "                m[(i,c)] = m[(i-1,c)]\n",
    "    return n[(N,C)]"
   ]
  },
  {
   "cell_type": "code",
   "execution_count": 8,
   "id": "f9e06ed0",
   "metadata": {
    "ExecuteTime": {
     "end_time": "2021-07-17T18:35:33.722580Z",
     "start_time": "2021-07-17T18:35:33.714774Z"
    }
   },
   "outputs": [],
   "source": [
    "v = [60, 100, 120]\n",
    "w = [10, 20, 30]\n",
    "c = [50]"
   ]
  },
  {
   "cell_type": "code",
   "execution_count": 10,
   "id": "naval-permit",
   "metadata": {
    "ExecuteTime": {
     "end_time": "2021-07-17T18:35:38.186558Z",
     "start_time": "2021-07-17T18:35:38.123249Z"
    }
   },
   "outputs": [
    {
     "ename": "NameError",
     "evalue": "name 'knaspack' is not defined",
     "output_type": "error",
     "traceback": [
      "\u001b[0;31m---------------------------------------------------------------------------\u001b[0m",
      "\u001b[0;31mNameError\u001b[0m                                 Traceback (most recent call last)",
      "\u001b[0;32m<ipython-input-10-e0031474f566>\u001b[0m in \u001b[0;36m<module>\u001b[0;34m\u001b[0m\n\u001b[0;32m----> 1\u001b[0;31m \u001b[0mknaspack\u001b[0m\u001b[0;34m(\u001b[0m\u001b[0mv\u001b[0m\u001b[0;34m,\u001b[0m\u001b[0mw\u001b[0m\u001b[0;34m,\u001b[0m\u001b[0mc\u001b[0m\u001b[0;34m)\u001b[0m\u001b[0;34m\u001b[0m\u001b[0;34m\u001b[0m\u001b[0m\n\u001b[0m",
      "\u001b[0;31mNameError\u001b[0m: name 'knaspack' is not defined"
     ]
    }
   ],
   "source": [
    "knaspack(v,w,c)"
   ]
  }
 ],
 "metadata": {
  "hide_input": false,
  "kernelspec": {
   "display_name": "Python 3",
   "language": "python",
   "name": "python3"
  },
  "language_info": {
   "codemirror_mode": {
    "name": "ipython",
    "version": 3
   },
   "file_extension": ".py",
   "mimetype": "text/x-python",
   "name": "python",
   "nbconvert_exporter": "python",
   "pygments_lexer": "ipython3",
   "version": "3.8.5"
  }
 },
 "nbformat": 4,
 "nbformat_minor": 5
}
