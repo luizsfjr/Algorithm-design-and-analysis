{
 "cells": [
  {
   "cell_type": "code",
   "execution_count": 167,
   "metadata": {
    "ExecuteTime": {
     "end_time": "2021-08-19T13:36:24.415346Z",
     "start_time": "2021-08-19T13:36:24.389269Z"
    }
   },
   "outputs": [],
   "source": [
    "\n",
    "# Estrutura do grafo\n",
    "class Graph:\n",
    "    # Construtor da classe\n",
    "    def __init__(self, vertices):\n",
    "        self.vertices = vertices\n",
    "        self.edges = 0\n",
    "        \n",
    "        adj = [[0 for x in range(vertices)] for x in range(vertices)]\n",
    "        \n",
    "        self.adj = adj\n",
    "     \n",
    "    # Adiciona aresta\n",
    "    def addEdge(self, u, v, w):\n",
    "        self.adj[u][v] = w\n",
    "        self.edges += 1\n",
    "    \n",
    "    # Retorna o peso da aresta\n",
    "    def edgeWeight(self, u, v):\n",
    "        return self.adj[u][v]\n",
    "    \n",
    "    def listEdges(self):\n",
    "        edges = []\n",
    "        for u in range(self.vertices):\n",
    "            for v in range(self.vertices):\n",
    "                w = self.edgeWeight(u,v)\n",
    "                if(w!=0):\n",
    "                    edges.append((u,v,w))\n",
    "        return edges\n",
    "\n",
    "    def graphFromFile(filename):\n",
    "        file = open(filename, 'r')\n",
    "        vertices = int(file.readline().strip())\n",
    "        grafo = Graph(vertices)\n",
    "        while True:\n",
    "    \n",
    "            line = file.readline().strip()\n",
    "\n",
    "            if not line:\n",
    "                break\n",
    "\n",
    "            u = int(line.split()[0])\n",
    "            v = int(line.split()[1])\n",
    "            w = int(line.split()[2])\n",
    "\n",
    "            grafo.addEdge(u, v, w)\n",
    "            \n",
    "        return grafo\n",
    "    \n",
    "    def toFile(self, filename):\n",
    "        with open(f'{filename}.txt', 'w') as f:   \n",
    "            for u in range(self.vertices):    \n",
    "                for v in range(self.vertices):\n",
    "                    if(self.edgeWeight(u,v) != 0):\n",
    "                        f.write(f'{u} {v} {self.edgeWeight(u,v)}\\n')"
   ]
  },
  {
   "cell_type": "code",
   "execution_count": 168,
   "metadata": {
    "ExecuteTime": {
     "end_time": "2021-08-19T13:36:26.875871Z",
     "start_time": "2021-08-19T13:36:26.852775Z"
    }
   },
   "outputs": [],
   "source": [
    "\n",
    "class DisjointSets:\n",
    "    def __init__(self, vertices):\n",
    "        self.rank = [1] * vertices\n",
    "        self.collection = [i for i in range(vertices)]\n",
    "\n",
    "    def find_set(self, u):\n",
    "\n",
    "        if (self.collection[u] != u):\n",
    "\n",
    "            self.collection[u] = self.find_set(self.collection[u])\n",
    "\n",
    "\n",
    "        return self.collection[u]\n",
    "\n",
    "    def union(self, u, v):\n",
    "\n",
    "        set_u = self.find_set(u)\n",
    "        set_v = self.find_set(v)\n",
    "\n",
    "        if set_u == set_v:\n",
    "            return\n",
    "\n",
    "        if self.rank[set_u] < self.rank[set_v]:\n",
    "            self.collection[set_u] = set_v\n",
    "\n",
    "        elif self.rank[set_u] > self.rank[set_v]:\n",
    "            self.collection[set_v] = set_u\n",
    "\n",
    "        else:\n",
    "            self.collection[set_v] = set_u\n",
    "            self.rank[set_u] = self.rank[set_u] + 1"
   ]
  },
  {
   "cell_type": "code",
   "execution_count": 169,
   "metadata": {
    "ExecuteTime": {
     "end_time": "2021-08-19T13:36:27.838007Z",
     "start_time": "2021-08-19T13:36:27.813423Z"
    }
   },
   "outputs": [],
   "source": [
    "def mst_kruskal(G):\n",
    "    A = Graph(G.vertices)\n",
    "    \n",
    "    disSets = DisjointSets(G.vertices)\n",
    "    \n",
    "    edges = G.listEdges()\n",
    "    edges = sorted(edges, key=lambda x: x[2], reverse=False)\n",
    "    \n",
    "    for edge in edges:\n",
    "        if disSets.find_set(edge[0]) != disSets.find_set(edge[1]):\n",
    "            A.addEdge(edge[0],edge[1],edge[2])\n",
    "            disSets.union(edge[0],edge[1])\n",
    "            \n",
    "    return A"
   ]
  },
  {
   "cell_type": "code",
   "execution_count": 170,
   "metadata": {
    "ExecuteTime": {
     "end_time": "2021-08-19T13:36:28.819611Z",
     "start_time": "2021-08-19T13:36:28.805652Z"
    }
   },
   "outputs": [],
   "source": [
    "G = Graph.graphFromFile('grafo.txt')"
   ]
  },
  {
   "cell_type": "code",
   "execution_count": 171,
   "metadata": {
    "ExecuteTime": {
     "end_time": "2021-08-19T13:36:29.582655Z",
     "start_time": "2021-08-19T13:36:29.572527Z"
    }
   },
   "outputs": [],
   "source": [
    "A = mst_kruskal(G)"
   ]
  },
  {
   "cell_type": "code",
   "execution_count": 172,
   "metadata": {
    "ExecuteTime": {
     "end_time": "2021-08-19T13:36:30.975955Z",
     "start_time": "2021-08-19T13:36:30.947759Z"
    }
   },
   "outputs": [
    {
     "data": {
      "text/plain": [
       "[[0, 4, 0, 0, 0, 0, 0, 8, 0],\n",
       " [0, 0, 0, 0, 0, 0, 0, 0, 0],\n",
       " [0, 0, 0, 7, 0, 4, 0, 0, 2],\n",
       " [0, 0, 0, 0, 9, 0, 0, 0, 0],\n",
       " [0, 0, 0, 0, 0, 0, 0, 0, 0],\n",
       " [0, 0, 0, 0, 0, 0, 2, 0, 0],\n",
       " [0, 0, 0, 0, 0, 0, 0, 1, 0],\n",
       " [0, 0, 0, 0, 0, 0, 0, 0, 0],\n",
       " [0, 0, 0, 0, 0, 0, 0, 0, 0]]"
      ]
     },
     "execution_count": 172,
     "metadata": {},
     "output_type": "execute_result"
    }
   ],
   "source": [
    "A.adj"
   ]
  },
  {
   "cell_type": "code",
   "execution_count": 173,
   "metadata": {
    "ExecuteTime": {
     "end_time": "2021-08-19T13:36:31.994983Z",
     "start_time": "2021-08-19T13:36:31.979052Z"
    }
   },
   "outputs": [],
   "source": [
    "A.toFile(\"Output\")"
   ]
  }
 ],
 "metadata": {
  "hide_input": false,
  "kernelspec": {
   "display_name": "Python 3",
   "language": "python",
   "name": "python3"
  },
  "language_info": {
   "codemirror_mode": {
    "name": "ipython",
    "version": 3
   },
   "file_extension": ".py",
   "mimetype": "text/x-python",
   "name": "python",
   "nbconvert_exporter": "python",
   "pygments_lexer": "ipython3",
   "version": "3.8.5"
  }
 },
 "nbformat": 4,
 "nbformat_minor": 4
}
